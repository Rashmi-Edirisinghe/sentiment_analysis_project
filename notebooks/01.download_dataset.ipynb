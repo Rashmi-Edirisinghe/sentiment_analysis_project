{
 "cells": [
  {
   "cell_type": "code",
   "execution_count": 1,
   "metadata": {},
   "outputs": [],
   "source": [
    "import numpy as np"
   ]
  },
  {
   "cell_type": "code",
   "execution_count": 2,
   "metadata": {},
   "outputs": [],
   "source": [
    "import json\n",
    "with open('../artifacts/kaggle.json','r') as file:\n",
    "    data=json.load(file)"
   ]
  },
  {
   "cell_type": "code",
   "execution_count": 3,
   "metadata": {},
   "outputs": [
    {
     "data": {
      "text/plain": [
       "{'username': 'rashmiedirisinghe', 'key': '4f7c38a272c9e09d278ef2ee88205cad'}"
      ]
     },
     "execution_count": 3,
     "metadata": {},
     "output_type": "execute_result"
    }
   ],
   "source": [
    "data"
   ]
  },
  {
   "cell_type": "code",
   "execution_count": 4,
   "metadata": {},
   "outputs": [
    {
     "name": "stdout",
     "output_type": "stream",
     "text": [
      "Collecting kaggle\n",
      "  Downloading kaggle-1.5.16.tar.gz (83 kB)\n",
      "     ---------------------------------------- 0.0/83.6 kB ? eta -:--:--\n",
      "     ---- ----------------------------------- 10.2/83.6 kB ? eta -:--:--\n",
      "     ---- ----------------------------------- 10.2/83.6 kB ? eta -:--:--\n",
      "     ------------------ ------------------- 41.0/83.6 kB 281.8 kB/s eta 0:00:01\n",
      "     ------------------ ------------------- 41.0/83.6 kB 281.8 kB/s eta 0:00:01\n",
      "     --------------------------- ---------- 61.4/83.6 kB 328.2 kB/s eta 0:00:01\n",
      "     -------------------------------------- 83.6/83.6 kB 334.9 kB/s eta 0:00:00\n",
      "  Preparing metadata (setup.py): started\n",
      "  Preparing metadata (setup.py): finished with status 'done'\n",
      "Requirement already satisfied: six>=1.10 in c:\\users\\admin\\desktop\\sentiment_analysis_project\\env\\lib\\site-packages (from kaggle) (1.16.0)\n",
      "Requirement already satisfied: certifi in c:\\users\\admin\\desktop\\sentiment_analysis_project\\env\\lib\\site-packages (from kaggle) (2023.11.17)\n",
      "Requirement already satisfied: python-dateutil in c:\\users\\admin\\desktop\\sentiment_analysis_project\\env\\lib\\site-packages (from kaggle) (2.8.2)\n",
      "Requirement already satisfied: requests in c:\\users\\admin\\desktop\\sentiment_analysis_project\\env\\lib\\site-packages (from kaggle) (2.31.0)\n",
      "Collecting tqdm\n",
      "  Downloading tqdm-4.66.1-py3-none-any.whl (78 kB)\n",
      "     ---------------------------------------- 0.0/78.3 kB ? eta -:--:--\n",
      "     ----- ---------------------------------- 10.2/78.3 kB ? eta -:--:--\n",
      "     -------------- ----------------------- 30.7/78.3 kB 660.6 kB/s eta 0:00:01\n",
      "     ----------------------------- -------- 61.4/78.3 kB 544.7 kB/s eta 0:00:01\n",
      "     -------------------------------------- 78.3/78.3 kB 436.0 kB/s eta 0:00:00\n",
      "Collecting python-slugify\n",
      "  Downloading python_slugify-8.0.1-py2.py3-none-any.whl (9.7 kB)\n",
      "Requirement already satisfied: urllib3 in c:\\users\\admin\\desktop\\sentiment_analysis_project\\env\\lib\\site-packages (from kaggle) (2.1.0)\n",
      "Requirement already satisfied: bleach in c:\\users\\admin\\desktop\\sentiment_analysis_project\\env\\lib\\site-packages (from kaggle) (6.1.0)\n",
      "Requirement already satisfied: webencodings in c:\\users\\admin\\desktop\\sentiment_analysis_project\\env\\lib\\site-packages (from bleach->kaggle) (0.5.1)\n",
      "Collecting text-unidecode>=1.3\n",
      "  Downloading text_unidecode-1.3-py2.py3-none-any.whl (78 kB)\n",
      "     ---------------------------------------- 0.0/78.2 kB ? eta -:--:--\n",
      "     ----- ---------------------------------- 10.2/78.2 kB ? eta -:--:--\n",
      "     -------------- ----------------------- 30.7/78.2 kB 435.7 kB/s eta 0:00:01\n",
      "     ------------------- ------------------ 41.0/78.2 kB 388.9 kB/s eta 0:00:01\n",
      "     ----------------------------- -------- 61.4/78.2 kB 409.6 kB/s eta 0:00:01\n",
      "     -------------------------------------- 78.2/78.2 kB 394.8 kB/s eta 0:00:00\n",
      "Requirement already satisfied: charset-normalizer<4,>=2 in c:\\users\\admin\\desktop\\sentiment_analysis_project\\env\\lib\\site-packages (from requests->kaggle) (3.3.2)\n",
      "Requirement already satisfied: idna<4,>=2.5 in c:\\users\\admin\\desktop\\sentiment_analysis_project\\env\\lib\\site-packages (from requests->kaggle) (3.6)\n",
      "Requirement already satisfied: colorama in c:\\users\\admin\\desktop\\sentiment_analysis_project\\env\\lib\\site-packages (from tqdm->kaggle) (0.4.6)\n",
      "Building wheels for collected packages: kaggle\n",
      "  Building wheel for kaggle (setup.py): started\n",
      "  Building wheel for kaggle (setup.py): finished with status 'done'\n",
      "  Created wheel for kaggle: filename=kaggle-1.5.16-py3-none-any.whl size=110696 sha256=e3998ad94af0d361ab05c7302cdfd82f2b5b7bb12ac9148c271b5f6df6c93fad\n",
      "  Stored in directory: c:\\users\\admin\\appdata\\local\\pip\\cache\\wheels\\43\\4b\\fb\\736478af5e8004810081a06259f9aa2f7c3329fc5d03c2c412\n",
      "Successfully built kaggle\n",
      "Installing collected packages: text-unidecode, tqdm, python-slugify, kaggle\n",
      "Successfully installed kaggle-1.5.16 python-slugify-8.0.1 text-unidecode-1.3 tqdm-4.66.1\n"
     ]
    },
    {
     "name": "stderr",
     "output_type": "stream",
     "text": [
      "\n",
      "[notice] A new release of pip is available: 23.0.1 -> 23.3.2\n",
      "[notice] To update, run: python.exe -m pip install --upgrade pip\n"
     ]
    }
   ],
   "source": [
    "!pip install kaggle"
   ]
  },
  {
   "cell_type": "code",
   "execution_count": 5,
   "metadata": {},
   "outputs": [],
   "source": [
    "import os\n",
    "os.environ['KAGGLE_USERNAME']=data['username']\n",
    "os.environ['KAGGLE_KEY']=data['key']"
   ]
  },
  {
   "cell_type": "code",
   "execution_count": 7,
   "metadata": {},
   "outputs": [],
   "source": [
    "from kaggle.api.kaggle_api_extended import KaggleApi\n",
    "api=KaggleApi()\n",
    "api.authenticate()"
   ]
  },
  {
   "cell_type": "code",
   "execution_count": 9,
   "metadata": {},
   "outputs": [],
   "source": [
    "api.dataset_download_files('dineshpiyasamara/sentiment-analysis-dataset', path='../artifacts/')"
   ]
  },
  {
   "cell_type": "code",
   "execution_count": 10,
   "metadata": {},
   "outputs": [],
   "source": [
    "import zipfile\n",
    "with zipfile.ZipFile('../artifacts/sentiment-analysis-dataset.zip', 'r') as zip_ref:\n",
    "    zip_ref.extractall('../artifacts/')"
   ]
  },
  {
   "cell_type": "code",
   "execution_count": null,
   "metadata": {},
   "outputs": [],
   "source": []
  }
 ],
 "metadata": {
  "kernelspec": {
   "display_name": "Python 3 (ipykernel)",
   "language": "python",
   "name": "python3"
  },
  "language_info": {
   "codemirror_mode": {
    "name": "ipython",
    "version": 3
   },
   "file_extension": ".py",
   "mimetype": "text/x-python",
   "name": "python",
   "nbconvert_exporter": "python",
   "pygments_lexer": "ipython3",
   "version": "3.10.4"
  }
 },
 "nbformat": 4,
 "nbformat_minor": 4
}
