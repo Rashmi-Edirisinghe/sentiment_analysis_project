{
 "cells": [
  {
   "cell_type": "code",
   "execution_count": 23,
   "id": "ad6a6442-16b5-487d-ada1-7768a319c886",
   "metadata": {},
   "outputs": [],
   "source": [
    "import numpy as np\n",
    "import pandas as pd\n",
    "import re\n",
    "import string\n",
    "import pickle"
   ]
  },
  {
   "cell_type": "code",
   "execution_count": 24,
   "id": "4eade38c-39ab-460a-b9e8-47639705d18c",
   "metadata": {},
   "outputs": [],
   "source": [
    "def remove_punctuations(text):\n",
    "    for punctuation in string.punctuation:\n",
    "        text=text.replace(punctuation, '')\n",
    "    return text"
   ]
  },
  {
   "cell_type": "code",
   "execution_count": 25,
   "id": "226e329d-b254-47d8-b750-bac8de4e99e7",
   "metadata": {},
   "outputs": [],
   "source": [
    "with open('../static/model/model.pickle', 'rb') as f:\n",
    "    model=pickle.load(f)"
   ]
  },
  {
   "cell_type": "code",
   "execution_count": 26,
   "id": "9b29e398-ebf7-44ff-8b3b-c63cfc6310c8",
   "metadata": {},
   "outputs": [],
   "source": [
    "with open('../static/model/corpora/stopwords/english', 'r') as file:\n",
    "    sw=file.read().splitlines()"
   ]
  },
  {
   "cell_type": "code",
   "execution_count": 27,
   "id": "663025ca-2349-446e-8f3b-e9cbcff5635a",
   "metadata": {},
   "outputs": [],
   "source": [
    "vocab=pd.read_csv('../static/model/vocabulary.txt', header=None)\n",
    "tokens=vocab[0].tolist()"
   ]
  },
  {
   "cell_type": "code",
   "execution_count": 28,
   "id": "e4e824f4-4b45-480f-9fa6-ef2389abf621",
   "metadata": {},
   "outputs": [],
   "source": [
    "from nltk.stem import PorterStemmer\n",
    "ps=PorterStemmer()"
   ]
  },
  {
   "cell_type": "code",
   "execution_count": 29,
   "id": "0f565aaa-7e03-455f-a368-8f617a724e68",
   "metadata": {},
   "outputs": [],
   "source": [
    "def preprocessing(text):\n",
    "    data=pd.DataFrame([text], columns=['tweet'])\n",
    "    data['tweet']=data['tweet'].apply(lambda x: \" \".join(x.lower() for x in x.split()))\n",
    "    data['tweet']=data['tweet'].apply(lambda x: \" \".join(re.sub(r'^https?:\\/\\/.*[\\r\\n]*','',x, flags=re.MULTILINE) for x in x.split()))\n",
    "    data['tweet']=data['tweet'].apply(remove_punctuations)\n",
    "    data['tweet']=data['tweet'].str.replace('\\d+', '', regex=True)\n",
    "    data['tweet']=data['tweet'].apply(lambda x: \" \".join(x for x in x.split() if x not in sw))\n",
    "    data['tweet']=data['tweet'].apply(lambda x: \" \".join(ps.stem(x) for x in x.split()))\n",
    "    return data['tweet']"
   ]
  },
  {
   "cell_type": "code",
   "execution_count": 30,
   "id": "7d091f26-8f86-4cf8-9b92-c83be4d6fd3b",
   "metadata": {},
   "outputs": [],
   "source": [
    "def vectorizer(ds, vocabulary):\n",
    "    vectorized_lst=[]\n",
    "\n",
    "    for sentence in ds:\n",
    "        sentence_lst=np.zeros(len(vocabulary))\n",
    "\n",
    "        for i in range(len(vocabulary)):\n",
    "            if vocabulary[i] in sentence.split():\n",
    "                sentence_lst[i]=1\n",
    "\n",
    "        vectorized_lst.append(sentence_lst)\n",
    "\n",
    "    vectorized_lst_new=np.asarray(vectorized_lst, dtype=np.float32)\n",
    "\n",
    "    return vectorized_lst_new"
   ]
  },
  {
   "cell_type": "code",
   "execution_count": null,
   "id": "d8672a86-3efd-4990-b397-6592301b3702",
   "metadata": {},
   "outputs": [],
   "source": [
    "def get_prediction(vectorized_text):\n",
    "    prediction=model.predict(vectorized_text)\n",
    "    if prediction==1:\n",
    "        return 'negative'\n",
    "    else:\n",
    "        return 'positive'"
   ]
  },
  {
   "cell_type": "code",
   "execution_count": 34,
   "id": "6815fd58-eb94-4400-a3b6-811ce4dac33a",
   "metadata": {},
   "outputs": [
    {
     "data": {
      "text/plain": [
       "array([0], dtype=int64)"
      ]
     },
     "execution_count": 34,
     "metadata": {},
     "output_type": "execute_result"
    }
   ],
   "source": [
    "txt='awesome product.i love it'\n",
    "preprocessed_txt=preprocessing(txt)\n",
    "vectorized_txt=vectorizer(preprocessed_txt,tokens)\n",
    "prediction=model.predict(vectorized_txt)\n",
    "prediction"
   ]
  },
  {
   "cell_type": "code",
   "execution_count": null,
   "id": "031c9630-b240-43b6-bdd3-ea9802bd1d85",
   "metadata": {},
   "outputs": [],
   "source": []
  }
 ],
 "metadata": {
  "kernelspec": {
   "display_name": "Python 3 (ipykernel)",
   "language": "python",
   "name": "python3"
  },
  "language_info": {
   "codemirror_mode": {
    "name": "ipython",
    "version": 3
   },
   "file_extension": ".py",
   "mimetype": "text/x-python",
   "name": "python",
   "nbconvert_exporter": "python",
   "pygments_lexer": "ipython3",
   "version": "3.10.4"
  }
 },
 "nbformat": 4,
 "nbformat_minor": 5
}
